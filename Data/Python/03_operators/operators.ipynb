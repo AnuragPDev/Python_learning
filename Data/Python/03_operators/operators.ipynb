{
 "cells": [
  {
   "cell_type": "markdown",
   "id": "885508c0",
   "metadata": {},
   "source": [
    "## Operator"
   ]
  },
  {
   "cell_type": "markdown",
   "id": "2fa32a04",
   "metadata": {},
   "source": [
    "operators in python is used to perform mathmatical calculations in python "
   ]
  },
  {
   "cell_type": "markdown",
   "id": "eae34aa2",
   "metadata": {},
   "source": [
    "###### Arithmatic operators- +,-,/,*,% ,//,**"
   ]
  },
  {
   "cell_type": "code",
   "execution_count": 3,
   "id": "d08be095",
   "metadata": {},
   "outputs": [
    {
     "name": "stdout",
     "output_type": "stream",
     "text": [
      "12\n"
     ]
    }
   ],
   "source": [
    "# + - sum\n",
    "a=7\n",
    "b=5\n",
    "print(a + b)"
   ]
  },
  {
   "cell_type": "code",
   "execution_count": 4,
   "id": "0343c295",
   "metadata": {},
   "outputs": [
    {
     "name": "stdout",
     "output_type": "stream",
     "text": [
      "2\n"
     ]
    }
   ],
   "source": [
    "# - subtract\n",
    "print(a-b)"
   ]
  },
  {
   "cell_type": "code",
   "execution_count": 5,
   "id": "2798b343",
   "metadata": {},
   "outputs": [
    {
     "name": "stdout",
     "output_type": "stream",
     "text": [
      "35\n"
     ]
    }
   ],
   "source": [
    "# * - multiply\n",
    "print(a*b)"
   ]
  },
  {
   "cell_type": "code",
   "execution_count": 6,
   "id": "21912f76",
   "metadata": {},
   "outputs": [
    {
     "name": "stdout",
     "output_type": "stream",
     "text": [
      "1.4\n"
     ]
    }
   ],
   "source": [
    "# / -divide \n",
    "print(a/b)"
   ]
  },
  {
   "cell_type": "code",
   "execution_count": 7,
   "id": "584c7e49",
   "metadata": {},
   "outputs": [
    {
     "name": "stdout",
     "output_type": "stream",
     "text": [
      "16807\n"
     ]
    }
   ],
   "source": [
    "# ** - exponential\n",
    "print(a**b)"
   ]
  },
  {
   "cell_type": "code",
   "execution_count": 9,
   "id": "bf1fd909",
   "metadata": {},
   "outputs": [
    {
     "data": {
      "text/plain": [
       "16807"
      ]
     },
     "execution_count": 9,
     "metadata": {},
     "output_type": "execute_result"
    }
   ],
   "source": [
    "a*a*a*a*a\n"
   ]
  },
  {
   "cell_type": "code",
   "execution_count": 16,
   "id": "42accc1d",
   "metadata": {},
   "outputs": [
    {
     "name": "stdout",
     "output_type": "stream",
     "text": [
      "3\n",
      "3.0\n",
      "1\n",
      "1.5\n",
      "1\n",
      "1.0\n",
      "0\n",
      "0.75\n"
     ]
    }
   ],
   "source": [
    "# // flour division\n",
    "print(3//1)\n",
    "print(3/1)\n",
    "print(3//2)\n",
    "print(3/2)\n",
    "print(3//3)\n",
    "print(3/3)\n",
    "print(3//4)\n",
    "print(3/4)\n"
   ]
  },
  {
   "cell_type": "code",
   "execution_count": 25,
   "id": "853402a0",
   "metadata": {},
   "outputs": [
    {
     "name": "stdout",
     "output_type": "stream",
     "text": [
      "0\n",
      "0\n",
      "0\n",
      "1\n",
      "2\n",
      "0\n",
      "4\n",
      "3\n",
      "2\n",
      "1\n",
      "0\n",
      "10\n",
      "10\n",
      "10\n"
     ]
    }
   ],
   "source": [
    "# % -module\n",
    "print(1%1)\n",
    "print(10%1)\n",
    "print(10%2)\n",
    "print(10%3)\n",
    "print(10%4)\n",
    "print(10%5)\n",
    "print(10%6)\n",
    "print(10%7)\n",
    "print(10%8)\n",
    "print(10%9)\n",
    "print(10%10)\n",
    "print(10%11)\n",
    "print(10%12)\n",
    "print(10%1999)"
   ]
  },
  {
   "cell_type": "markdown",
   "id": "abccf8bb",
   "metadata": {},
   "source": [
    "##### Comparision operator "
   ]
  },
  {
   "cell_type": "code",
   "execution_count": 34,
   "id": "9f6fe40f",
   "metadata": {},
   "outputs": [
    {
     "name": "stdout",
     "output_type": "stream",
     "text": [
      "a==b : False\n",
      "a>b: True\n",
      "a<b: False\n",
      "a>=b: True\n",
      "a<=b: False\n",
      "a!=b: True\n"
     ]
    }
   ],
   "source": [
    "#### == , >= ,<= ,!=,> ,<  comapres the two values \n",
    "a, b= 44,34\n",
    "print(\"a==b :\",a==b)\n",
    "print(\"a>b:\",a>b)\n",
    "print(\"a<b:\",a<b)\n",
    "print(\"a>=b:\",a>=b)\n",
    "print(\"a<=b:\",a<=b)\n",
    "print(\"a!=b:\",a!=b)"
   ]
  },
  {
   "cell_type": "markdown",
   "id": "d806e781",
   "metadata": {},
   "source": [
    "#### Identity operator "
   ]
  },
  {
   "cell_type": "code",
   "execution_count": 37,
   "id": "fc90a463",
   "metadata": {},
   "outputs": [
    {
     "name": "stdout",
     "output_type": "stream",
     "text": [
      "True\n"
     ]
    }
   ],
   "source": [
    "# is \n",
    "x=3\n",
    "\n",
    "y=3\n",
    "print(x is y)"
   ]
  },
  {
   "cell_type": "code",
   "execution_count": 45,
   "id": "da010ea1",
   "metadata": {},
   "outputs": [
    {
     "name": "stdout",
     "output_type": "stream",
     "text": [
      "True\n"
     ]
    }
   ],
   "source": [
    "a=3 \n",
    "b=4\n",
    "print(a is not b)"
   ]
  },
  {
   "cell_type": "code",
   "execution_count": null,
   "id": "85291310",
   "metadata": {},
   "outputs": [],
   "source": []
  }
 ],
 "metadata": {
  "kernelspec": {
   "display_name": "Python 3 (ipykernel)",
   "language": "python",
   "name": "python3"
  },
  "language_info": {
   "codemirror_mode": {
    "name": "ipython",
    "version": 3
   },
   "file_extension": ".py",
   "mimetype": "text/x-python",
   "name": "python",
   "nbconvert_exporter": "python",
   "pygments_lexer": "ipython3",
   "version": "3.11.2"
  }
 },
 "nbformat": 4,
 "nbformat_minor": 5
}
