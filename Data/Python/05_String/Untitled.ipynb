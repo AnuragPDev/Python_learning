{
 "cells": [
  {
   "cell_type": "markdown",
   "id": "d1d71379",
   "metadata": {},
   "source": [
    "# String "
   ]
  },
  {
   "cell_type": "markdown",
   "id": "e47d4ac6",
   "metadata": {},
   "source": [
    "String in python is a sequnce of character , we can access each character with the help of index , index starts from 0 and written inside quotes \" \" ,''"
   ]
  },
  {
   "cell_type": "markdown",
   "id": "ce9322c4",
   "metadata": {},
   "source": [
    "note : String in python are immutable we cant change string "
   ]
  },
  {
   "cell_type": "code",
   "execution_count": 25,
   "id": "776a63e2",
   "metadata": {},
   "outputs": [
    {
     "name": "stdout",
     "output_type": "stream",
     "text": [
      "2372495180400\n"
     ]
    }
   ],
   "source": [
    "name = \"peter\"\n",
    "print(id(name))"
   ]
  },
  {
   "cell_type": "code",
   "execution_count": 33,
   "id": "60341aa0",
   "metadata": {},
   "outputs": [
    {
     "data": {
      "text/plain": [
       "2372495185456"
      ]
     },
     "execution_count": 33,
     "metadata": {},
     "output_type": "execute_result"
    }
   ],
   "source": [
    "id(name)"
   ]
  },
  {
   "cell_type": "code",
   "execution_count": 28,
   "id": "e17bab8c",
   "metadata": {},
   "outputs": [
    {
     "data": {
      "text/plain": [
       "2372495180400"
      ]
     },
     "execution_count": 28,
     "metadata": {},
     "output_type": "execute_result"
    }
   ],
   "source": [
    "id(\"peter\")"
   ]
  },
  {
   "cell_type": "code",
   "execution_count": 29,
   "id": "d3011e16",
   "metadata": {},
   "outputs": [
    {
     "name": "stdout",
     "output_type": "stream",
     "text": [
      "peter\n"
     ]
    }
   ],
   "source": [
    "print(name)"
   ]
  },
  {
   "cell_type": "code",
   "execution_count": 30,
   "id": "0f101f92",
   "metadata": {},
   "outputs": [],
   "source": [
    "name =\"Griffin\""
   ]
  },
  {
   "cell_type": "code",
   "execution_count": 32,
   "id": "8c165666",
   "metadata": {},
   "outputs": [
    {
     "name": "stdout",
     "output_type": "stream",
     "text": [
      "2372495185456\n",
      "2372494716528\n"
     ]
    }
   ],
   "source": [
    "print(id(name))\n",
    "print(id(\"peter\"))"
   ]
  },
  {
   "cell_type": "code",
   "execution_count": 1,
   "id": "1590dfc2",
   "metadata": {},
   "outputs": [],
   "source": [
    "name = \"Peter\"\n",
    "name1 ='Rama'"
   ]
  },
  {
   "cell_type": "code",
   "execution_count": 4,
   "id": "5265ee69",
   "metadata": {},
   "outputs": [
    {
     "data": {
      "text/plain": [
       "str"
      ]
     },
     "execution_count": 4,
     "metadata": {},
     "output_type": "execute_result"
    }
   ],
   "source": [
    "type(name)"
   ]
  },
  {
   "cell_type": "markdown",
   "id": "ed20a59a",
   "metadata": {},
   "source": [
    "Accessing the elements in string \n"
   ]
  },
  {
   "cell_type": "code",
   "execution_count": 10,
   "id": "dae6859a",
   "metadata": {},
   "outputs": [
    {
     "name": "stdout",
     "output_type": "stream",
     "text": [
      "P e t e r\n"
     ]
    }
   ],
   "source": [
    "print(name[0],\n",
    "name[1],\n",
    "name[2],\n",
    "name[3],\n",
    "name[4])\n",
    "# print(name[5])  index out of bound"
   ]
  },
  {
   "cell_type": "markdown",
   "id": "5a6df763",
   "metadata": {},
   "source": [
    "#### Looping the String"
   ]
  },
  {
   "cell_type": "markdown",
   "id": "925a3507",
   "metadata": {},
   "source": [
    "string is an iterable and hence we can iterate the string using for loop"
   ]
  },
  {
   "cell_type": "code",
   "execution_count": 13,
   "id": "067cc98f",
   "metadata": {},
   "outputs": [
    {
     "name": "stdout",
     "output_type": "stream",
     "text": [
      "H\n",
      "e\n",
      "l\n",
      "l\n",
      "o\n",
      " \n",
      "t\n",
      "h\n",
      "e\n",
      " \n",
      "w\n",
      "o\n",
      "r\n",
      "l\n",
      "d\n",
      " \n",
      "o\n",
      "f\n",
      " \n",
      "p\n",
      "y\n",
      "t\n",
      "h\n",
      "o\n",
      "n\n"
     ]
    }
   ],
   "source": [
    "string = \"Hello the world of python\"\n",
    "for i in string:\n",
    "    print(i)"
   ]
  },
  {
   "cell_type": "markdown",
   "id": "ae02b4a0",
   "metadata": {},
   "source": [
    "len() - this function returns the length of the string "
   ]
  },
  {
   "cell_type": "code",
   "execution_count": 17,
   "id": "c494cbd3",
   "metadata": {},
   "outputs": [
    {
     "name": "stdout",
     "output_type": "stream",
     "text": [
      "19\n"
     ]
    }
   ],
   "source": [
    "name =\"William Shakesphere\"\n",
    "print(len(name))"
   ]
  },
  {
   "cell_type": "code",
   "execution_count": 20,
   "id": "ffa9a414",
   "metadata": {},
   "outputs": [
    {
     "name": "stdout",
     "output_type": "stream",
     "text": [
      "False\n"
     ]
    }
   ],
   "source": [
    "print(\"will\" in name)"
   ]
  },
  {
   "cell_type": "markdown",
   "id": "9b3cbc91",
   "metadata": {},
   "source": [
    " ####  String functions \n",
    " \n",
    " "
   ]
  },
  {
   "cell_type": "markdown",
   "id": "2594fce0",
   "metadata": {},
   "source": [
    "###### slice"
   ]
  },
  {
   "cell_type": "markdown",
   "id": "1fd2bb6e",
   "metadata": {},
   "source": [
    "SLICING IS A TECHNIQUE IN PYTHON WHERE WE CAN SEPERATE THE PART OF ITERABLE BASED ON CONDITION"
   ]
  },
  {
   "cell_type": "code",
   "execution_count": 7,
   "id": "45bdd0ee",
   "metadata": {},
   "outputs": [
    {
     "name": "stdout",
     "output_type": "stream",
     "text": [
      "Ra\n"
     ]
    }
   ],
   "source": [
    "name =\"Ramanujam\"\n",
    "print(name[0:2])"
   ]
  },
  {
   "cell_type": "markdown",
   "id": "8ed469dc",
   "metadata": {},
   "source": [
    "note : index start from 0 and the upper range will be excluded "
   ]
  },
  {
   "cell_type": "code",
   "execution_count": 8,
   "id": "0ff3e645",
   "metadata": {},
   "outputs": [
    {
     "name": "stdout",
     "output_type": "stream",
     "text": [
      "Raman\n"
     ]
    }
   ],
   "source": [
    "print(name[0:5])"
   ]
  },
  {
   "cell_type": "markdown",
   "id": "f9470951",
   "metadata": {},
   "source": [
    "we can also give only start index and leave the end index and it will return the part of string from statring index till end"
   ]
  },
  {
   "cell_type": "code",
   "execution_count": 9,
   "id": "57935a9a",
   "metadata": {},
   "outputs": [
    {
     "name": "stdout",
     "output_type": "stream",
     "text": [
      "anujam\n"
     ]
    }
   ],
   "source": [
    "print(name[3:])"
   ]
  },
  {
   "cell_type": "code",
   "execution_count": 10,
   "id": "bd1dd5e7",
   "metadata": {},
   "outputs": [
    {
     "name": "stdout",
     "output_type": "stream",
     "text": [
      "Raman\n"
     ]
    }
   ],
   "source": [
    "print(name[:5])"
   ]
  },
  {
   "cell_type": "markdown",
   "id": "d710dc87",
   "metadata": {},
   "source": [
    "Note : we can also give negative index and it starts from -1 "
   ]
  },
  {
   "cell_type": "code",
   "execution_count": 13,
   "id": "b2a90ace",
   "metadata": {},
   "outputs": [
    {
     "name": "stdout",
     "output_type": "stream",
     "text": [
      "m\n"
     ]
    }
   ],
   "source": [
    "print(name[-1:])"
   ]
  },
  {
   "cell_type": "markdown",
   "id": "85263d97",
   "metadata": {},
   "source": [
    "Capitalize()"
   ]
  },
  {
   "cell_type": "code",
   "execution_count": 14,
   "id": "31998030",
   "metadata": {},
   "outputs": [
    {
     "name": "stdout",
     "output_type": "stream",
     "text": [
      "Peter. is a good boy\n"
     ]
    }
   ],
   "source": [
    "name =\"peter. is a good boy\"\n",
    "print(name.capitalize())\n",
    "\n",
    "# this function returns the string where the first letter of the word is in upper case"
   ]
  },
  {
   "cell_type": "markdown",
   "id": "93e51a7c",
   "metadata": {},
   "source": [
    "Upper()"
   ]
  },
  {
   "cell_type": "code",
   "execution_count": null,
   "id": "7a666e96",
   "metadata": {},
   "outputs": [],
   "source": [
    "# upper function moifty the string into upper letters 5"
   ]
  },
  {
   "cell_type": "code",
   "execution_count": 15,
   "id": "41362230",
   "metadata": {},
   "outputs": [
    {
     "data": {
      "text/plain": [
       "'PETER. IS A GOOD BOY'"
      ]
     },
     "execution_count": 15,
     "metadata": {},
     "output_type": "execute_result"
    }
   ],
   "source": [
    "name.upper()"
   ]
  },
  {
   "cell_type": "code",
   "execution_count": 16,
   "id": "20d5f721",
   "metadata": {},
   "outputs": [
    {
     "name": "stdout",
     "output_type": "stream",
     "text": [
      "peter. is a good boy\n"
     ]
    }
   ],
   "source": [
    "print(name)"
   ]
  },
  {
   "cell_type": "code",
   "execution_count": null,
   "id": "124466fe",
   "metadata": {},
   "outputs": [],
   "source": []
  }
 ],
 "metadata": {
  "kernelspec": {
   "display_name": "Python 3 (ipykernel)",
   "language": "python",
   "name": "python3"
  },
  "language_info": {
   "codemirror_mode": {
    "name": "ipython",
    "version": 3
   },
   "file_extension": ".py",
   "mimetype": "text/x-python",
   "name": "python",
   "nbconvert_exporter": "python",
   "pygments_lexer": "ipython3",
   "version": "3.11.2"
  }
 },
 "nbformat": 4,
 "nbformat_minor": 5
}
