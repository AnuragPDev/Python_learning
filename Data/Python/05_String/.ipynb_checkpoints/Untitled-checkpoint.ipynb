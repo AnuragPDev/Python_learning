{
 "cells": [
  {
   "cell_type": "markdown",
   "id": "7abc493a",
   "metadata": {},
   "source": [
    "# String "
   ]
  },
  {
   "cell_type": "markdown",
   "id": "62d3571d",
   "metadata": {},
   "source": [
    "String in python is a sequnce of character , we can access each character with the help of index , index starts from 0 and written inside quotes \" \" ,''"
   ]
  },
  {
   "cell_type": "code",
   "execution_count": 1,
   "id": "f201994c",
   "metadata": {},
   "outputs": [],
   "source": [
    "name = \"Peter\"\n",
    "name1 ='Rama'"
   ]
  },
  {
   "cell_type": "code",
   "execution_count": 4,
   "id": "c3885ab0",
   "metadata": {},
   "outputs": [
    {
     "data": {
      "text/plain": [
       "str"
      ]
     },
     "execution_count": 4,
     "metadata": {},
     "output_type": "execute_result"
    }
   ],
   "source": [
    "type(name)"
   ]
  },
  {
   "cell_type": "markdown",
   "id": "fc645272",
   "metadata": {},
   "source": [
    "Accessing the elements in string \n"
   ]
  },
  {
   "cell_type": "code",
   "execution_count": 10,
   "id": "d550c19f",
   "metadata": {},
   "outputs": [
    {
     "name": "stdout",
     "output_type": "stream",
     "text": [
      "P e t e r\n"
     ]
    }
   ],
   "source": [
    "print(name[0],\n",
    "name[1],\n",
    "name[2],\n",
    "name[3],\n",
    "name[4])\n",
    "# print(name[5])  index out of bound"
   ]
  },
  {
   "cell_type": "markdown",
   "id": "0b37d117",
   "metadata": {},
   "source": [
    "#### Looping the String"
   ]
  },
  {
   "cell_type": "markdown",
   "id": "845d2247",
   "metadata": {},
   "source": [
    "string is an iterable and hence we can iterate the string using for loop"
   ]
  },
  {
   "cell_type": "code",
   "execution_count": 13,
   "id": "fd587177",
   "metadata": {},
   "outputs": [
    {
     "name": "stdout",
     "output_type": "stream",
     "text": [
      "H\n",
      "e\n",
      "l\n",
      "l\n",
      "o\n",
      " \n",
      "t\n",
      "h\n",
      "e\n",
      " \n",
      "w\n",
      "o\n",
      "r\n",
      "l\n",
      "d\n",
      " \n",
      "o\n",
      "f\n",
      " \n",
      "p\n",
      "y\n",
      "t\n",
      "h\n",
      "o\n",
      "n\n"
     ]
    }
   ],
   "source": [
    "string = \"Hello the world of python\"\n",
    "for i in string:\n",
    "    print(i)"
   ]
  },
  {
   "cell_type": "markdown",
   "id": "f8b7a47e",
   "metadata": {},
   "source": [
    "len() - this function returns the length of the string "
   ]
  },
  {
   "cell_type": "code",
   "execution_count": 17,
   "id": "215770f8",
   "metadata": {},
   "outputs": [
    {
     "name": "stdout",
     "output_type": "stream",
     "text": [
      "19\n"
     ]
    }
   ],
   "source": [
    "name =\"William Shakesphere\"\n",
    "print(len(name))"
   ]
  },
  {
   "cell_type": "code",
   "execution_count": 20,
   "id": "ddb7b154",
   "metadata": {},
   "outputs": [
    {
     "name": "stdout",
     "output_type": "stream",
     "text": [
      "False\n"
     ]
    }
   ],
   "source": [
    "print(\"will\" in name)"
   ]
  },
  {
   "cell_type": "code",
   "execution_count": 37,
   "id": "4bdf29b8",
   "metadata": {},
   "outputs": [
    {
     "ename": "SyntaxError",
     "evalue": "invalid syntax (3471586932.py, line 1)",
     "output_type": "error",
     "traceback": [
      "\u001b[1;36m  Cell \u001b[1;32mIn[37], line 1\u001b[1;36m\u001b[0m\n\u001b[1;33m    .\u001b[0m\n\u001b[1;37m    ^\u001b[0m\n\u001b[1;31mSyntaxError\u001b[0m\u001b[1;31m:\u001b[0m invalid syntax\n"
     ]
    }
   ],
   "source": []
  }
 ],
 "metadata": {
  "kernelspec": {
   "display_name": "Python 3 (ipykernel)",
   "language": "python",
   "name": "python3"
  },
  "language_info": {
   "codemirror_mode": {
    "name": "ipython",
    "version": 3
   },
   "file_extension": ".py",
   "mimetype": "text/x-python",
   "name": "python",
   "nbconvert_exporter": "python",
   "pygments_lexer": "ipython3",
   "version": "3.11.2"
  }
 },
 "nbformat": 4,
 "nbformat_minor": 5
}
