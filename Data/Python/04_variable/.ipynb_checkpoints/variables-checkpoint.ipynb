{
 "cells": [
  {
   "cell_type": "markdown",
   "id": "f896b482",
   "metadata": {},
   "source": [
    "## Variables"
   ]
  },
  {
   "cell_type": "markdown",
   "id": "a6a44840",
   "metadata": {},
   "source": [
    "variables in python is a container used to store values of different data types "
   ]
  },
  {
   "cell_type": "markdown",
   "id": "ad1ea441",
   "metadata": {},
   "source": [
    "varibles name should not start with numbers special characters "
   ]
  },
  {
   "cell_type": "code",
   "execution_count": 1,
   "id": "02d7f421",
   "metadata": {},
   "outputs": [
    {
     "name": "stdout",
     "output_type": "stream",
     "text": [
      "Anurag\n"
     ]
    }
   ],
   "source": [
    "# lets create some variables \n",
    "name = \"Anurag\"\n",
    "print(name)"
   ]
  },
  {
   "cell_type": "code",
   "execution_count": 2,
   "id": "66a456ec",
   "metadata": {},
   "outputs": [
    {
     "name": "stdout",
     "output_type": "stream",
     "text": [
      "peter\n"
     ]
    }
   ],
   "source": [
    "# reassign the value \n",
    "name = \"peter\"\n",
    "print(name\n",
    "     )"
   ]
  },
  {
   "cell_type": "markdown",
   "id": "e53ee1e7",
   "metadata": {},
   "source": [
    "###### Python is dynamically typed and hence we can reassign the values again and again"
   ]
  },
  {
   "cell_type": "raw",
   "id": "13ea18fc",
   "metadata": {},
   "source": []
  },
  {
   "cell_type": "raw",
   "id": "ecc279a2",
   "metadata": {},
   "source": []
  },
  {
   "cell_type": "raw",
   "id": "3a01a62d",
   "metadata": {},
   "source": []
  },
  {
   "cell_type": "code",
   "execution_count": null,
   "id": "90ac3349",
   "metadata": {},
   "outputs": [],
   "source": []
  },
  {
   "cell_type": "raw",
   "id": "4086d164",
   "metadata": {},
   "source": []
  },
  {
   "cell_type": "code",
   "execution_count": null,
   "id": "8331c4fd",
   "metadata": {},
   "outputs": [],
   "source": []
  },
  {
   "cell_type": "code",
   "execution_count": 3,
   "id": "3abb8bae",
   "metadata": {},
   "outputs": [],
   "source": [
    "name=\"peter\"\n",
    "age=34\n",
    "gender=\"male\"\n",
    "is_married = False\n"
   ]
  }
 ],
 "metadata": {
  "kernelspec": {
   "display_name": "Python 3 (ipykernel)",
   "language": "python",
   "name": "python3"
  },
  "language_info": {
   "codemirror_mode": {
    "name": "ipython",
    "version": 3
   },
   "file_extension": ".py",
   "mimetype": "text/x-python",
   "name": "python",
   "nbconvert_exporter": "python",
   "pygments_lexer": "ipython3",
   "version": "3.11.2"
  }
 },
 "nbformat": 4,
 "nbformat_minor": 5
}
