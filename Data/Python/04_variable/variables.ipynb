{
 "cells": [
  {
   "cell_type": "markdown",
   "id": "f896b482",
   "metadata": {},
   "source": [
    "## Variables"
   ]
  },
  {
   "cell_type": "markdown",
   "id": "a6a44840",
   "metadata": {},
   "source": [
    "variables in python is a container used to store values of different data types "
   ]
  },
  {
   "cell_type": "markdown",
   "id": "ad1ea441",
   "metadata": {},
   "source": [
    "varibles name should not start with numbers special characters "
   ]
  },
  {
   "cell_type": "code",
   "execution_count": 1,
   "id": "02d7f421",
   "metadata": {},
   "outputs": [
    {
     "name": "stdout",
     "output_type": "stream",
     "text": [
      "Anurag\n"
     ]
    }
   ],
   "source": [
    "# lets create some variables \n",
    "name = \"Anurag\"\n",
    "print(name)"
   ]
  },
  {
   "cell_type": "code",
   "execution_count": 2,
   "id": "66a456ec",
   "metadata": {},
   "outputs": [
    {
     "name": "stdout",
     "output_type": "stream",
     "text": [
      "peter\n"
     ]
    }
   ],
   "source": [
    "# reassign the value \n",
    "name = \"peter\"\n",
    "print(name\n",
    "     )"
   ]
  },
  {
   "cell_type": "markdown",
   "id": "e53ee1e7",
   "metadata": {},
   "source": [
    "###### Python is dynamically typed and hence we can reassign the values again and again"
   ]
  },
  {
   "cell_type": "code",
   "execution_count": 3,
   "id": "3abb8bae",
   "metadata": {},
   "outputs": [],
   "source": [
    "name=\"peter\"\n",
    "age=34\n",
    "gender=\"male\"\n",
    "is_married = False\n"
   ]
  },
  {
   "cell_type": "markdown",
   "id": "c584174d",
   "metadata": {},
   "source": [
    "Assigning multiples values to variable"
   ]
  },
  {
   "cell_type": "code",
   "execution_count": 6,
   "id": "f4dd4ab1",
   "metadata": {},
   "outputs": [
    {
     "name": "stdout",
     "output_type": "stream",
     "text": [
      "Fruits: apple banana mango\n"
     ]
    }
   ],
   "source": [
    "x,y,z = \"apple\",\"banana\",\"mango\"\n",
    "print(\"Fruits:\",x,y,z)"
   ]
  },
  {
   "cell_type": "code",
   "execution_count": 7,
   "id": "39cba281",
   "metadata": {},
   "outputs": [
    {
     "name": "stdout",
     "output_type": "stream",
     "text": [
      "Peter Peter Peter\n"
     ]
    }
   ],
   "source": [
    "x=y=z =\"Peter\"\n",
    "print(x,y,z)"
   ]
  },
  {
   "cell_type": "markdown",
   "id": "7d7ceb9f",
   "metadata": {},
   "source": [
    "### Unpacking variables "
   ]
  },
  {
   "cell_type": "code",
   "execution_count": 16,
   "id": "c24110c2",
   "metadata": {},
   "outputs": [
    {
     "name": "stdout",
     "output_type": "stream",
     "text": [
      "apple banana\n"
     ]
    }
   ],
   "source": [
    "# if we have a iterable object we can also create varibles from that \n",
    "fruits =[\"apple\",\"banana\",\"orange\"]\n",
    "x,y,z=fruits\n",
    "print(x,y)"
   ]
  },
  {
   "cell_type": "markdown",
   "id": "ea797a82",
   "metadata": {},
   "source": [
    "### We can use astrick to assign remaining values to single varibale"
   ]
  },
  {
   "cell_type": "code",
   "execution_count": 17,
   "id": "53df262c",
   "metadata": {},
   "outputs": [],
   "source": [
    "names =[\"peter\",\"john\",\"Meg\",\"Griffin\",\"toddler\",\"max\"]\n",
    "name1,name2,*name3=names"
   ]
  },
  {
   "cell_type": "code",
   "execution_count": 18,
   "id": "e10d2929",
   "metadata": {},
   "outputs": [
    {
     "name": "stdout",
     "output_type": "stream",
     "text": [
      "peter john ['Meg', 'Griffin', 'toddler', 'max']\n"
     ]
    }
   ],
   "source": [
    "print(name1,name2,name3)"
   ]
  },
  {
   "cell_type": "code",
   "execution_count": 19,
   "id": "7cef0af5",
   "metadata": {},
   "outputs": [],
   "source": [
    "name1,*name2,name3,name4=names\n"
   ]
  },
  {
   "cell_type": "code",
   "execution_count": 20,
   "id": "997193f2",
   "metadata": {},
   "outputs": [
    {
     "name": "stdout",
     "output_type": "stream",
     "text": [
      "peter ['john', 'Meg', 'Griffin'] toddler max\n"
     ]
    }
   ],
   "source": [
    "print(name1,name2,name3,name4)"
   ]
  }
 ],
 "metadata": {
  "kernelspec": {
   "display_name": "Python 3 (ipykernel)",
   "language": "python",
   "name": "python3"
  },
  "language_info": {
   "codemirror_mode": {
    "name": "ipython",
    "version": 3
   },
   "file_extension": ".py",
   "mimetype": "text/x-python",
   "name": "python",
   "nbconvert_exporter": "python",
   "pygments_lexer": "ipython3",
   "version": "3.11.2"
  }
 },
 "nbformat": 4,
 "nbformat_minor": 5
}
