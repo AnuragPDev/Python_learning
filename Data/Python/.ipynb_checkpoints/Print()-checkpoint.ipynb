{
 "cells": [
  {
   "cell_type": "markdown",
   "id": "1fdcd36e",
   "metadata": {},
   "source": [
    "## Python "
   ]
  },
  {
   "cell_type": "markdown",
   "id": "aa6c26f1",
   "metadata": {},
   "source": [
    "###### print()"
   ]
  },
  {
   "cell_type": "markdown",
   "id": "67b28d52",
   "metadata": {},
   "source": [
    "The first basic function in python is print() function which is used to print the user input \n",
    "\n",
    "\n",
    "\n"
   ]
  },
  {
   "cell_type": "code",
   "execution_count": 1,
   "id": "5446a510",
   "metadata": {},
   "outputs": [
    {
     "name": "stdout",
     "output_type": "stream",
     "text": [
      "peter\n"
     ]
    }
   ],
   "source": [
    "name = \"peter\"\n",
    "print(name)"
   ]
  },
  {
   "cell_type": "code",
   "execution_count": 2,
   "id": "50d5c220",
   "metadata": {},
   "outputs": [
    {
     "name": "stdout",
     "output_type": "stream",
     "text": [
      "1\n"
     ]
    }
   ],
   "source": [
    "number = 1\n",
    "print(number)"
   ]
  },
  {
   "cell_type": "markdown",
   "id": "7cd2077d",
   "metadata": {},
   "source": [
    "we can also print number and name at same time"
   ]
  },
  {
   "cell_type": "code",
   "execution_count": 3,
   "id": "9001bb1f",
   "metadata": {},
   "outputs": [
    {
     "name": "stdout",
     "output_type": "stream",
     "text": [
      "peter 1\n"
     ]
    }
   ],
   "source": [
    "print(name,number)"
   ]
  },
  {
   "cell_type": "code",
   "execution_count": 5,
   "id": "7ee8f614",
   "metadata": {},
   "outputs": [
    {
     "name": "stdout",
     "output_type": "stream",
     "text": [
      "peter1\n"
     ]
    }
   ],
   "source": [
    "print(name+str(number\n",
    "              ))"
   ]
  },
  {
   "cell_type": "code",
   "execution_count": 13,
   "id": "fe97d6bf",
   "metadata": {},
   "outputs": [
    {
     "name": "stdout",
     "output_type": "stream",
     "text": [
      "hello this is line 1 hello this is line 2\n"
     ]
    }
   ],
   "source": [
    "para1 = \"hello this is line 1\"\n",
    "para2= \"hello this is line 2\"\n",
    "print(para1,para2)"
   ]
  },
  {
   "cell_type": "markdown",
   "id": "eaaf7832",
   "metadata": {},
   "source": [
    "######  multiline print"
   ]
  },
  {
   "cell_type": "code",
   "execution_count": 14,
   "id": "7df9f467",
   "metadata": {},
   "outputs": [
    {
     "name": "stdout",
     "output_type": "stream",
     "text": [
      "Para1\n",
      "para2\n"
     ]
    }
   ],
   "source": [
    "print(\"\"\"Para1\n",
    "para2\"\"\")"
   ]
  },
  {
   "cell_type": "markdown",
   "id": "371f4c40",
   "metadata": {},
   "source": [
    "###### type()\n"
   ]
  },
  {
   "cell_type": "raw",
   "id": "67cd08e8",
   "metadata": {},
   "source": [
    "type() function is used to show the type of value assign to the variable "
   ]
  },
  {
   "cell_type": "code",
   "execution_count": 2,
   "id": "bfe98260",
   "metadata": {},
   "outputs": [
    {
     "ename": "NameError",
     "evalue": "name 'name' is not defined",
     "output_type": "error",
     "traceback": [
      "\u001b[1;31m---------------------------------------------------------------------------\u001b[0m",
      "\u001b[1;31mNameError\u001b[0m                                 Traceback (most recent call last)",
      "Cell \u001b[1;32mIn[2], line 1\u001b[0m\n\u001b[1;32m----> 1\u001b[0m \u001b[38;5;28mtype\u001b[39m(\u001b[43mname\u001b[49m)\n",
      "\u001b[1;31mNameError\u001b[0m: name 'name' is not defined"
     ]
    }
   ],
   "source": [
    "type(name)"
   ]
  }
 ],
 "metadata": {
  "kernelspec": {
   "display_name": "Python 3 (ipykernel)",
   "language": "python",
   "name": "python3"
  },
  "language_info": {
   "codemirror_mode": {
    "name": "ipython",
    "version": 3
   },
   "file_extension": ".py",
   "mimetype": "text/x-python",
   "name": "python",
   "nbconvert_exporter": "python",
   "pygments_lexer": "ipython3",
   "version": "3.11.2"
  }
 },
 "nbformat": 4,
 "nbformat_minor": 5
}
