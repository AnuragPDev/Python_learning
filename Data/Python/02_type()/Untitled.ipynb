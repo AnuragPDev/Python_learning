{
 "cells": [
  {
   "cell_type": "markdown",
   "id": "58f4f7b4",
   "metadata": {},
   "source": [
    "## type()"
   ]
  },
  {
   "cell_type": "markdown",
   "id": "49ffe33c",
   "metadata": {},
   "source": [
    "type() function returns the data type of the values assign to the variable "
   ]
  },
  {
   "cell_type": "code",
   "execution_count": null,
   "id": "e286f990",
   "metadata": {},
   "outputs": [],
   "source": [
    "name = \"Peter\"\n",
    "number = 22\n"
   ]
  }
 ],
 "metadata": {
  "kernelspec": {
   "display_name": "Python 3 (ipykernel)",
   "language": "python",
   "name": "python3"
  },
  "language_info": {
   "codemirror_mode": {
    "name": "ipython",
    "version": 3
   },
   "file_extension": ".py",
   "mimetype": "text/x-python",
   "name": "python",
   "nbconvert_exporter": "python",
   "pygments_lexer": "ipython3",
   "version": "3.11.2"
  }
 },
 "nbformat": 4,
 "nbformat_minor": 5
}
