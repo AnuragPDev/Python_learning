{
 "cells": [
  {
   "cell_type": "markdown",
   "id": "e43875dc",
   "metadata": {},
   "source": [
    "# while loop "
   ]
  },
  {
   "cell_type": "code",
   "execution_count": 1,
   "id": "453e0d33",
   "metadata": {},
   "outputs": [
    {
     "data": {
      "text/plain": [
       "['thors', 'thorkell', 'thorfinn', 'thorgill']"
      ]
     },
     "execution_count": 1,
     "metadata": {},
     "output_type": "execute_result"
    }
   ],
   "source": [
    "name = ['thors','thorkell','thorfinn','thorgill']\n",
    "name"
   ]
  },
  {
   "cell_type": "code",
   "execution_count": 2,
   "id": "0fe2af71",
   "metadata": {},
   "outputs": [
    {
     "name": "stdout",
     "output_type": "stream",
     "text": [
      "thors\n",
      "thorkell\n",
      "thorfinn\n",
      "thorgill\n"
     ]
    }
   ],
   "source": [
    "i=0\n",
    "while i < len(name):\n",
    "    print(name[i])\n",
    "    i+=1"
   ]
  },
  {
   "cell_type": "code",
   "execution_count": 3,
   "id": "ee62078e",
   "metadata": {},
   "outputs": [
    {
     "name": "stdout",
     "output_type": "stream",
     "text": [
      "thors\n",
      "thorkell\n",
      "thorfinn\n",
      "thorgill\n"
     ]
    },
    {
     "data": {
      "text/plain": [
       "[None, None, None, None]"
      ]
     },
     "execution_count": 3,
     "metadata": {},
     "output_type": "execute_result"
    }
   ],
   "source": [
    "# list comprehension\n",
    "\n",
    "# we can also write single line code to print the element of \n",
    "\n",
    "[print(i) for i in name]"
   ]
  },
  {
   "cell_type": "code",
   "execution_count": 4,
   "id": "b81b80d5",
   "metadata": {},
   "outputs": [
    {
     "data": {
      "text/plain": [
       "['thors', 'thorkell', 'thorfinn', 'thorgill']"
      ]
     },
     "execution_count": 4,
     "metadata": {},
     "output_type": "execute_result"
    }
   ],
   "source": [
    "name\n"
   ]
  },
  {
   "cell_type": "markdown",
   "id": "0bbb4bbb",
   "metadata": {},
   "source": [
    "### List comprehension"
   ]
  },
  {
   "cell_type": "code",
   "execution_count": 5,
   "id": "63bf65fe",
   "metadata": {},
   "outputs": [
    {
     "data": {
      "text/plain": [
       "['thors', 'thorkell', 'thorfinn', 'thorgill']"
      ]
     },
     "execution_count": 5,
     "metadata": {},
     "output_type": "execute_result"
    }
   ],
   "source": [
    "# List Comprehnesion is a shortest way to perform  task on list \n",
    "name"
   ]
  },
  {
   "cell_type": "code",
   "execution_count": 6,
   "id": "79709e4a",
   "metadata": {},
   "outputs": [
    {
     "data": {
      "text/plain": [
       "['thors',\n",
       " 'thorkell',\n",
       " 'thorfinn',\n",
       " 'thorgill',\n",
       " 'peter',\n",
       " 'meg',\n",
       " 'louis',\n",
       " 'stuiwe']"
      ]
     },
     "execution_count": 6,
     "metadata": {},
     "output_type": "execute_result"
    }
   ],
   "source": [
    "name.extend([\"peter\",\"meg\",\"louis\",\"stuiwe\"])\n",
    "name"
   ]
  },
  {
   "cell_type": "code",
   "execution_count": 7,
   "id": "103630f5",
   "metadata": {},
   "outputs": [
    {
     "name": "stdout",
     "output_type": "stream",
     "text": [
      "['thors', 'thorkell', 'thorfinn', 'thorgill', 'peter', 'stuiwe']\n"
     ]
    }
   ],
   "source": [
    "# print all the name where name is start with T\n",
    "new_list=[x for x in name if \"t\" in x]\n",
    "print(new_list)"
   ]
  },
  {
   "cell_type": "code",
   "execution_count": 8,
   "id": "8c9c0302",
   "metadata": {},
   "outputs": [
    {
     "name": "stdout",
     "output_type": "stream",
     "text": [
      "['thors', 'thorkell', 'thorfinn', 'thorgill', 'meg', 'louis', 'stuiwe']\n"
     ]
    }
   ],
   "source": [
    "# print all the name except peter\n",
    "new_list1= [x for x in name if x != \"peter\"]\n",
    "print(new_list1)\n"
   ]
  },
  {
   "cell_type": "markdown",
   "id": "5fc3f7be",
   "metadata": {},
   "source": [
    "### creating a list using list comprehnesion"
   ]
  },
  {
   "cell_type": "code",
   "execution_count": 9,
   "id": "04725599",
   "metadata": {},
   "outputs": [
    {
     "name": "stdout",
     "output_type": "stream",
     "text": [
      "[0, 1, 2, 3, 4]\n"
     ]
    }
   ],
   "source": [
    "my_num_list =[x for x in range(10) if x < 5]\n",
    "print(my_num_list)"
   ]
  },
  {
   "cell_type": "markdown",
   "id": "60483282",
   "metadata": {},
   "source": [
    "# Sort"
   ]
  },
  {
   "cell_type": "code",
   "execution_count": 10,
   "id": "30d43496",
   "metadata": {},
   "outputs": [],
   "source": [
    "# we can sort the list with the help of sort function\n",
    "list_num =[34,4,5,34,63,56,7,756,78,56,5685,88,5,65,3,56,36,5632,6,5326,56,5,26,356,346]"
   ]
  },
  {
   "cell_type": "code",
   "execution_count": 11,
   "id": "ba8f08af",
   "metadata": {},
   "outputs": [],
   "source": [
    "\n",
    "list_num.sort()"
   ]
  },
  {
   "cell_type": "code",
   "execution_count": 12,
   "id": "6fad0bdd",
   "metadata": {},
   "outputs": [
    {
     "data": {
      "text/plain": [
       "[3,\n",
       " 4,\n",
       " 5,\n",
       " 5,\n",
       " 5,\n",
       " 6,\n",
       " 7,\n",
       " 26,\n",
       " 34,\n",
       " 34,\n",
       " 36,\n",
       " 56,\n",
       " 56,\n",
       " 56,\n",
       " 56,\n",
       " 63,\n",
       " 65,\n",
       " 78,\n",
       " 88,\n",
       " 346,\n",
       " 356,\n",
       " 756,\n",
       " 5326,\n",
       " 5632,\n",
       " 5685]"
      ]
     },
     "execution_count": 12,
     "metadata": {},
     "output_type": "execute_result"
    }
   ],
   "source": [
    "list_num"
   ]
  },
  {
   "cell_type": "code",
   "execution_count": 13,
   "id": "79e26e0d",
   "metadata": {},
   "outputs": [
    {
     "data": {
      "text/plain": [
       "[5685,\n",
       " 5632,\n",
       " 5326,\n",
       " 756,\n",
       " 356,\n",
       " 346,\n",
       " 88,\n",
       " 78,\n",
       " 65,\n",
       " 63,\n",
       " 56,\n",
       " 56,\n",
       " 56,\n",
       " 56,\n",
       " 36,\n",
       " 34,\n",
       " 34,\n",
       " 26,\n",
       " 7,\n",
       " 6,\n",
       " 5,\n",
       " 5,\n",
       " 5,\n",
       " 4,\n",
       " 3]"
      ]
     },
     "execution_count": 13,
     "metadata": {},
     "output_type": "execute_result"
    }
   ],
   "source": [
    "list_num.sort(reverse=True)\n",
    "list_num"
   ]
  },
  {
   "cell_type": "code",
   "execution_count": 14,
   "id": "8ad3c47d",
   "metadata": {},
   "outputs": [
    {
     "data": {
      "text/plain": [
       "[5685,\n",
       " 5632,\n",
       " 5326,\n",
       " 756,\n",
       " 356,\n",
       " 346,\n",
       " 88,\n",
       " 78,\n",
       " 65,\n",
       " 63,\n",
       " 56,\n",
       " 56,\n",
       " 56,\n",
       " 56,\n",
       " 36,\n",
       " 34,\n",
       " 34,\n",
       " 26,\n",
       " 7,\n",
       " 6,\n",
       " 5,\n",
       " 5,\n",
       " 5,\n",
       " 4,\n",
       " 3]"
      ]
     },
     "execution_count": 14,
     "metadata": {},
     "output_type": "execute_result"
    }
   ],
   "source": [
    "list_num"
   ]
  },
  {
   "cell_type": "code",
   "execution_count": 15,
   "id": "b668a4d7",
   "metadata": {},
   "outputs": [
    {
     "name": "stdout",
     "output_type": "stream",
     "text": [
      "[5685, 5632, 5326, 756, 356, 346, 88, 78, 65, 63, 56, 56, 56, 56, 36, 34, 34, 26, 7, 6, 5, 5, 5, 4, 3]\n"
     ]
    }
   ],
   "source": [
    "print(list_num)"
   ]
  },
  {
   "cell_type": "code",
   "execution_count": 16,
   "id": "ca0a75d0",
   "metadata": {},
   "outputs": [
    {
     "name": "stdout",
     "output_type": "stream",
     "text": [
      "None\n"
     ]
    }
   ],
   "source": [
    "print(list_num.reverse())"
   ]
  },
  {
   "cell_type": "code",
   "execution_count": 17,
   "id": "c60d8614",
   "metadata": {},
   "outputs": [
    {
     "data": {
      "text/plain": [
       "['thors',\n",
       " 'thorkell',\n",
       " 'thorfinn',\n",
       " 'thorgill',\n",
       " 'peter',\n",
       " 'meg',\n",
       " 'louis',\n",
       " 'stuiwe']"
      ]
     },
     "execution_count": 17,
     "metadata": {},
     "output_type": "execute_result"
    }
   ],
   "source": [
    "name"
   ]
  },
  {
   "cell_type": "code",
   "execution_count": 19,
   "id": "e927792a",
   "metadata": {},
   "outputs": [
    {
     "name": "stdout",
     "output_type": "stream",
     "text": [
      "['thorkell', 'peter', 'meg', 'stuiwe']\n"
     ]
    }
   ],
   "source": [
    "new_list =[]\n",
    "for names in name:\n",
    "    if 'e' in names:\n",
    "        new_list.append(names)\n",
    "\n",
    "print(new_list)"
   ]
  },
  {
   "cell_type": "markdown",
   "id": "f341f08d",
   "metadata": {},
   "source": [
    "## reversing the list"
   ]
  },
  {
   "cell_type": "code",
   "execution_count": 20,
   "id": "f7542259",
   "metadata": {},
   "outputs": [
    {
     "data": {
      "text/plain": [
       "['thors',\n",
       " 'thorkell',\n",
       " 'thorfinn',\n",
       " 'thorgill',\n",
       " 'peter',\n",
       " 'meg',\n",
       " 'louis',\n",
       " 'stuiwe']"
      ]
     },
     "execution_count": 20,
     "metadata": {},
     "output_type": "execute_result"
    }
   ],
   "source": [
    "name"
   ]
  },
  {
   "cell_type": "code",
   "execution_count": 21,
   "id": "a22315e2",
   "metadata": {},
   "outputs": [],
   "source": [
    "name.reverse()"
   ]
  },
  {
   "cell_type": "code",
   "execution_count": 22,
   "id": "97def4ad",
   "metadata": {},
   "outputs": [
    {
     "data": {
      "text/plain": [
       "['stuiwe',\n",
       " 'louis',\n",
       " 'meg',\n",
       " 'peter',\n",
       " 'thorgill',\n",
       " 'thorfinn',\n",
       " 'thorkell',\n",
       " 'thors']"
      ]
     },
     "execution_count": 22,
     "metadata": {},
     "output_type": "execute_result"
    }
   ],
   "source": [
    "name"
   ]
  }
 ],
 "metadata": {
  "kernelspec": {
   "display_name": "Python 3 (ipykernel)",
   "language": "python",
   "name": "python3"
  },
  "language_info": {
   "codemirror_mode": {
    "name": "ipython",
    "version": 3
   },
   "file_extension": ".py",
   "mimetype": "text/x-python",
   "name": "python",
   "nbconvert_exporter": "python",
   "pygments_lexer": "ipython3",
   "version": "3.11.2"
  }
 },
 "nbformat": 4,
 "nbformat_minor": 5
}
