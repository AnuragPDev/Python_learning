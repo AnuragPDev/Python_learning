{
 "cells": [
  {
   "cell_type": "markdown",
   "id": "764fd73d",
   "metadata": {},
   "source": [
    "## type()"
   ]
  },
  {
   "cell_type": "markdown",
   "id": "ac484d9b",
   "metadata": {},
   "source": [
    "type() function returns the data type of the values assign to the variable "
   ]
  },
  {
   "cell_type": "code",
   "execution_count": 2,
   "id": "95eb32d8",
   "metadata": {},
   "outputs": [],
   "source": [
    "name = \"Peter\"\n",
    "number = 22\n",
    "married= False\n",
    "friends =[\"Brian\",\"Qwegmire\",\"George Bush\"]"
   ]
  },
  {
   "cell_type": "code",
   "execution_count": 3,
   "id": "0b33821e",
   "metadata": {},
   "outputs": [
    {
     "data": {
      "text/plain": [
       "str"
      ]
     },
     "execution_count": 3,
     "metadata": {},
     "output_type": "execute_result"
    }
   ],
   "source": [
    "type(name)"
   ]
  },
  {
   "cell_type": "code",
   "execution_count": 4,
   "id": "c9585a78",
   "metadata": {},
   "outputs": [
    {
     "data": {
      "text/plain": [
       "int"
      ]
     },
     "execution_count": 4,
     "metadata": {},
     "output_type": "execute_result"
    }
   ],
   "source": [
    "type(number)"
   ]
  },
  {
   "cell_type": "code",
   "execution_count": 5,
   "id": "a3fc3ab5",
   "metadata": {},
   "outputs": [
    {
     "data": {
      "text/plain": [
       "bool"
      ]
     },
     "execution_count": 5,
     "metadata": {},
     "output_type": "execute_result"
    }
   ],
   "source": [
    "type(married)"
   ]
  },
  {
   "cell_type": "code",
   "execution_count": 6,
   "id": "0b55c51b",
   "metadata": {},
   "outputs": [
    {
     "data": {
      "text/plain": [
       "list"
      ]
     },
     "execution_count": 6,
     "metadata": {},
     "output_type": "execute_result"
    }
   ],
   "source": [
    "type(friends)"
   ]
  }
 ],
 "metadata": {
  "kernelspec": {
   "display_name": "Python 3 (ipykernel)",
   "language": "python",
   "name": "python3"
  },
  "language_info": {
   "codemirror_mode": {
    "name": "ipython",
    "version": 3
   },
   "file_extension": ".py",
   "mimetype": "text/x-python",
   "name": "python",
   "nbconvert_exporter": "python",
   "pygments_lexer": "ipython3",
   "version": "3.11.2"
  }
 },
 "nbformat": 4,
 "nbformat_minor": 5
}
