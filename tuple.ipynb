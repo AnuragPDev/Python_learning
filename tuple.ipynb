{
 "cells": [
  {
   "cell_type": "markdown",
   "id": "afa10eee",
   "metadata": {},
   "source": [
    "# Tuples "
   ]
  },
  {
   "cell_type": "markdown",
   "id": "89f97cdf",
   "metadata": {},
   "source": [
    "tuple is the one of the data structure which stores the values in single variable "
   ]
  },
  {
   "cell_type": "code",
   "execution_count": 1,
   "id": "19a25a12",
   "metadata": {},
   "outputs": [
    {
     "name": "stdout",
     "output_type": "stream",
     "text": [
      "(1, 2, 3, 3, 4, 5, 6, 7)\n"
     ]
    }
   ],
   "source": [
    "tup =(1,2,3,3,4,5,6,7)\n",
    "print(tup)"
   ]
  },
  {
   "cell_type": "code",
   "execution_count": 3,
   "id": "2d11a78e",
   "metadata": {},
   "outputs": [
    {
     "name": "stdout",
     "output_type": "stream",
     "text": [
      "<class 'tuple'>\n"
     ]
    }
   ],
   "source": [
    "tup2=(\"rohan\",\"mohan\", \"sohan\")\n",
    "print(type(tup2))"
   ]
  },
  {
   "cell_type": "markdown",
   "id": "ba11c833",
   "metadata": {},
   "source": [
    "unlike list tuples are immutable means we cant change the tuple "
   ]
  },
  {
   "cell_type": "code",
   "execution_count": 4,
   "id": "0ad3bdfe",
   "metadata": {},
   "outputs": [
    {
     "name": "stdout",
     "output_type": "stream",
     "text": [
      "2111809370400\n"
     ]
    }
   ],
   "source": [
    "print(id(tup))"
   ]
  },
  {
   "cell_type": "markdown",
   "id": "09780fbf",
   "metadata": {},
   "source": [
    "Access the tuple\n",
    "we can access the tuple with the help of index same as list "
   ]
  },
  {
   "cell_type": "code",
   "execution_count": 7,
   "id": "beb63510",
   "metadata": {},
   "outputs": [
    {
     "data": {
      "text/plain": [
       "2"
      ]
     },
     "execution_count": 7,
     "metadata": {},
     "output_type": "execute_result"
    }
   ],
   "source": [
    "tup[1]"
   ]
  },
  {
   "cell_type": "code",
   "execution_count": 8,
   "id": "5e9e23ca",
   "metadata": {},
   "outputs": [
    {
     "data": {
      "text/plain": [
       "3"
      ]
     },
     "execution_count": 8,
     "metadata": {},
     "output_type": "execute_result"
    }
   ],
   "source": [
    "tup[2]"
   ]
  },
  {
   "cell_type": "markdown",
   "id": "1ae3ed72",
   "metadata": {},
   "source": [
    "to access the last element we can use negative indexng"
   ]
  },
  {
   "cell_type": "code",
   "execution_count": 12,
   "id": "0fb3c144",
   "metadata": {},
   "outputs": [
    {
     "data": {
      "text/plain": [
       "7"
      ]
     },
     "execution_count": 12,
     "metadata": {},
     "output_type": "execute_result"
    }
   ],
   "source": [
    "tup[-1]"
   ]
  },
  {
   "cell_type": "markdown",
   "id": "193110f9",
   "metadata": {},
   "source": [
    "### slicing"
   ]
  },
  {
   "cell_type": "markdown",
   "id": "5b5e22e5",
   "metadata": {},
   "source": [
    "slicing means to take the part of the tuple , it takes three arguments , start index end index and steps "
   ]
  },
  {
   "cell_type": "code",
   "execution_count": 13,
   "id": "630e320c",
   "metadata": {},
   "outputs": [
    {
     "data": {
      "text/plain": [
       "(2, 3, 3)"
      ]
     },
     "execution_count": 13,
     "metadata": {},
     "output_type": "execute_result"
    }
   ],
   "source": [
    "tup[1:4]"
   ]
  },
  {
   "cell_type": "code",
   "execution_count": 14,
   "id": "8d90591b",
   "metadata": {},
   "outputs": [
    {
     "data": {
      "text/plain": [
       "(1, 2, 3, 3, 4, 5, 6, 7)"
      ]
     },
     "execution_count": 14,
     "metadata": {},
     "output_type": "execute_result"
    }
   ],
   "source": [
    "tup"
   ]
  },
  {
   "cell_type": "code",
   "execution_count": 15,
   "id": "3ea52e53",
   "metadata": {},
   "outputs": [
    {
     "data": {
      "text/plain": [
       "(1, 2, 3, 3, 4, 5, 6)"
      ]
     },
     "execution_count": 15,
     "metadata": {},
     "output_type": "execute_result"
    }
   ],
   "source": [
    "tup[:-1]"
   ]
  },
  {
   "cell_type": "code",
   "execution_count": 16,
   "id": "be915c39",
   "metadata": {},
   "outputs": [
    {
     "data": {
      "text/plain": [
       "(7,)"
      ]
     },
     "execution_count": 16,
     "metadata": {},
     "output_type": "execute_result"
    }
   ],
   "source": [
    "tup[-1:]"
   ]
  },
  {
   "cell_type": "markdown",
   "id": "bee7451c",
   "metadata": {},
   "source": [
    "reversing the tuple "
   ]
  },
  {
   "cell_type": "code",
   "execution_count": 19,
   "id": "a1793c60",
   "metadata": {},
   "outputs": [
    {
     "data": {
      "text/plain": [
       "(7, 6, 5, 4, 3, 3, 2, 1)"
      ]
     },
     "execution_count": 19,
     "metadata": {},
     "output_type": "execute_result"
    }
   ],
   "source": [
    "tup[::-1]"
   ]
  },
  {
   "cell_type": "markdown",
   "id": "9b866cf8",
   "metadata": {},
   "source": [
    "##### join tuples "
   ]
  },
  {
   "cell_type": "code",
   "execution_count": 22,
   "id": "300b392a",
   "metadata": {},
   "outputs": [
    {
     "data": {
      "text/plain": [
       "(1, 2, 3, 3, 4, 5, 6, 7, 'rohan', 'mohan', 'sohan')"
      ]
     },
     "execution_count": 22,
     "metadata": {},
     "output_type": "execute_result"
    }
   ],
   "source": [
    "tup+tup2"
   ]
  },
  {
   "cell_type": "code",
   "execution_count": null,
   "id": "ff77904f",
   "metadata": {},
   "outputs": [],
   "source": []
  },
  {
   "cell_type": "code",
   "execution_count": null,
   "id": "49adc938",
   "metadata": {},
   "outputs": [],
   "source": []
  },
  {
   "cell_type": "code",
   "execution_count": null,
   "id": "621cff81",
   "metadata": {},
   "outputs": [],
   "source": []
  }
 ],
 "metadata": {
  "kernelspec": {
   "display_name": "Python 3 (ipykernel)",
   "language": "python",
   "name": "python3"
  },
  "language_info": {
   "codemirror_mode": {
    "name": "ipython",
    "version": 3
   },
   "file_extension": ".py",
   "mimetype": "text/x-python",
   "name": "python",
   "nbconvert_exporter": "python",
   "pygments_lexer": "ipython3",
   "version": "3.11.2"
  }
 },
 "nbformat": 4,
 "nbformat_minor": 5
}
