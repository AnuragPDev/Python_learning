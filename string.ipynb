{
 "cells": [
  {
   "cell_type": "markdown",
   "id": "d1d71379",
   "metadata": {},
   "source": [
    "# String "
   ]
  },
  {
   "cell_type": "markdown",
   "id": "e47d4ac6",
   "metadata": {},
   "source": [
    "String in python is a sequnce of character , we can access each character with the help of index , index starts from 0 and written inside quotes \" \" ,''"
   ]
  },
  {
   "cell_type": "markdown",
   "id": "6347172e",
   "metadata": {},
   "source": [
    "note : String in python are immutable we cant change string "
   ]
  },
  {
   "cell_type": "code",
   "execution_count": 1,
   "id": "910c702a",
   "metadata": {},
   "outputs": [
    {
     "name": "stdout",
     "output_type": "stream",
     "text": [
      "1864709397040\n"
     ]
    }
   ],
   "source": [
    "name = \"peter\"\n",
    "print(id(name))"
   ]
  },
  {
   "cell_type": "code",
   "execution_count": 2,
   "id": "8aef1e03",
   "metadata": {},
   "outputs": [
    {
     "data": {
      "text/plain": [
       "1864709397040"
      ]
     },
     "execution_count": 2,
     "metadata": {},
     "output_type": "execute_result"
    }
   ],
   "source": [
    "id(name)"
   ]
  },
  {
   "cell_type": "code",
   "execution_count": 3,
   "id": "0034bb6d",
   "metadata": {},
   "outputs": [
    {
     "data": {
      "text/plain": [
       "1864709397040"
      ]
     },
     "execution_count": 3,
     "metadata": {},
     "output_type": "execute_result"
    }
   ],
   "source": [
    "id(\"peter\")"
   ]
  },
  {
   "cell_type": "code",
   "execution_count": 4,
   "id": "be609943",
   "metadata": {},
   "outputs": [
    {
     "name": "stdout",
     "output_type": "stream",
     "text": [
      "peter\n"
     ]
    }
   ],
   "source": [
    "print(name)"
   ]
  },
  {
   "cell_type": "code",
   "execution_count": 5,
   "id": "735e1f03",
   "metadata": {},
   "outputs": [],
   "source": [
    "name =\"Griffin\""
   ]
  },
  {
   "cell_type": "code",
   "execution_count": 6,
   "id": "e0eb7fb9",
   "metadata": {},
   "outputs": [
    {
     "name": "stdout",
     "output_type": "stream",
     "text": [
      "1864709615728\n",
      "1864687168240\n"
     ]
    }
   ],
   "source": [
    "print(id(name))\n",
    "print(id(\"peter\"))"
   ]
  },
  {
   "cell_type": "code",
   "execution_count": 7,
   "id": "1590dfc2",
   "metadata": {},
   "outputs": [],
   "source": [
    "name = \"Peter\"\n",
    "name1 ='Rama'"
   ]
  },
  {
   "cell_type": "code",
   "execution_count": 8,
   "id": "5265ee69",
   "metadata": {},
   "outputs": [
    {
     "data": {
      "text/plain": [
       "str"
      ]
     },
     "execution_count": 8,
     "metadata": {},
     "output_type": "execute_result"
    }
   ],
   "source": [
    "type(name)"
   ]
  },
  {
   "cell_type": "markdown",
   "id": "ed20a59a",
   "metadata": {},
   "source": [
    "Accessing the elements in string \n"
   ]
  },
  {
   "cell_type": "code",
   "execution_count": 9,
   "id": "dae6859a",
   "metadata": {},
   "outputs": [
    {
     "name": "stdout",
     "output_type": "stream",
     "text": [
      "P e t e r\n"
     ]
    }
   ],
   "source": [
    "print(name[0],\n",
    "name[1],\n",
    "name[2],\n",
    "name[3],\n",
    "name[4])\n",
    "# print(name[5])  index out of bound"
   ]
  },
  {
   "cell_type": "markdown",
   "id": "5a6df763",
   "metadata": {},
   "source": [
    "#### Looping the String"
   ]
  },
  {
   "cell_type": "markdown",
   "id": "925a3507",
   "metadata": {},
   "source": [
    "string is an iterable and hence we can iterate the string using for loop"
   ]
  },
  {
   "cell_type": "code",
   "execution_count": 10,
   "id": "067cc98f",
   "metadata": {},
   "outputs": [
    {
     "name": "stdout",
     "output_type": "stream",
     "text": [
      "H\n",
      "e\n",
      "l\n",
      "l\n",
      "o\n",
      " \n",
      "t\n",
      "h\n",
      "e\n",
      " \n",
      "w\n",
      "o\n",
      "r\n",
      "l\n",
      "d\n",
      " \n",
      "o\n",
      "f\n",
      " \n",
      "p\n",
      "y\n",
      "t\n",
      "h\n",
      "o\n",
      "n\n"
     ]
    }
   ],
   "source": [
    "string = \"Hello the world of python\"\n",
    "for i in string:\n",
    "    print(i)"
   ]
  },
  {
   "cell_type": "markdown",
   "id": "ae02b4a0",
   "metadata": {},
   "source": [
    "len() - this function returns the length of the string "
   ]
  },
  {
   "cell_type": "code",
   "execution_count": 11,
   "id": "c494cbd3",
   "metadata": {},
   "outputs": [
    {
     "name": "stdout",
     "output_type": "stream",
     "text": [
      "19\n"
     ]
    }
   ],
   "source": [
    "name =\"William Shakesphere\"\n",
    "print(len(name))"
   ]
  },
  {
   "cell_type": "code",
   "execution_count": 12,
   "id": "ffa9a414",
   "metadata": {},
   "outputs": [
    {
     "name": "stdout",
     "output_type": "stream",
     "text": [
      "False\n"
     ]
    }
   ],
   "source": [
    "print(\"will\" in name)"
   ]
  },
  {
   "cell_type": "markdown",
   "id": "916ed7ae",
   "metadata": {},
   "source": [
    " ####  String functions \n",
    " \n",
    " "
   ]
  },
  {
   "cell_type": "markdown",
   "id": "fbc5dcf5",
   "metadata": {},
   "source": [
    "###### slice"
   ]
  },
  {
   "cell_type": "markdown",
   "id": "18735705",
   "metadata": {},
   "source": [
    "SLICING IS A TECHNIQUE IN PYTHON WHERE WE CAN SEPERATE THE PART OF ITERABLE BASED ON CONDITION"
   ]
  },
  {
   "cell_type": "code",
   "execution_count": 13,
   "id": "2b133f00",
   "metadata": {},
   "outputs": [
    {
     "name": "stdout",
     "output_type": "stream",
     "text": [
      "Ra\n"
     ]
    }
   ],
   "source": [
    "name =\"Ramanujam\"\n",
    "print(name[0:2])"
   ]
  },
  {
   "cell_type": "markdown",
   "id": "22b1ea4b",
   "metadata": {},
   "source": [
    "note : index start from 0 and the upper range will be excluded "
   ]
  },
  {
   "cell_type": "code",
   "execution_count": 14,
   "id": "90e163d6",
   "metadata": {},
   "outputs": [
    {
     "name": "stdout",
     "output_type": "stream",
     "text": [
      "Raman\n"
     ]
    }
   ],
   "source": [
    "print(name[0:5])"
   ]
  },
  {
   "cell_type": "markdown",
   "id": "f805135c",
   "metadata": {},
   "source": [
    "we can also give only start index and leave the end index and it will return the part of string from statring index till end"
   ]
  },
  {
   "cell_type": "code",
   "execution_count": 15,
   "id": "546bf3bd",
   "metadata": {},
   "outputs": [
    {
     "name": "stdout",
     "output_type": "stream",
     "text": [
      "anujam\n"
     ]
    }
   ],
   "source": [
    "print(name[3:])"
   ]
  },
  {
   "cell_type": "code",
   "execution_count": 16,
   "id": "7b71b70a",
   "metadata": {},
   "outputs": [
    {
     "name": "stdout",
     "output_type": "stream",
     "text": [
      "Raman\n"
     ]
    }
   ],
   "source": [
    "print(name[:5])"
   ]
  },
  {
   "cell_type": "markdown",
   "id": "b45a63dd",
   "metadata": {},
   "source": [
    "Note : we can also give negative index and it starts from -1 "
   ]
  },
  {
   "cell_type": "code",
   "execution_count": 17,
   "id": "1ccc03e0",
   "metadata": {},
   "outputs": [
    {
     "name": "stdout",
     "output_type": "stream",
     "text": [
      "m\n"
     ]
    }
   ],
   "source": [
    "print(name[-1:])"
   ]
  },
  {
   "cell_type": "markdown",
   "id": "65e43b5e",
   "metadata": {},
   "source": [
    "Capitalize()"
   ]
  },
  {
   "cell_type": "code",
   "execution_count": 18,
   "id": "881e3b67",
   "metadata": {},
   "outputs": [
    {
     "name": "stdout",
     "output_type": "stream",
     "text": [
      "Peter. is a good boy\n"
     ]
    }
   ],
   "source": [
    "name =\"peter. is a good boy\"\n",
    "print(name.capitalize())\n",
    "\n",
    "# this function returns the string where the first letter of the word is in upper case"
   ]
  },
  {
   "cell_type": "markdown",
   "id": "04d9b390",
   "metadata": {},
   "source": [
    "Upper()"
   ]
  },
  {
   "cell_type": "code",
   "execution_count": 19,
   "id": "21f2d53a",
   "metadata": {},
   "outputs": [],
   "source": [
    "# upper function moifty the string into upper letters 5"
   ]
  },
  {
   "cell_type": "code",
   "execution_count": 20,
   "id": "fb4f33dd",
   "metadata": {},
   "outputs": [
    {
     "data": {
      "text/plain": [
       "'PETER. IS A GOOD BOY'"
      ]
     },
     "execution_count": 20,
     "metadata": {},
     "output_type": "execute_result"
    }
   ],
   "source": [
    "name.upper()"
   ]
  },
  {
   "cell_type": "code",
   "execution_count": 21,
   "id": "17e15f11",
   "metadata": {},
   "outputs": [
    {
     "name": "stdout",
     "output_type": "stream",
     "text": [
      "peter. is a good boy\n"
     ]
    }
   ],
   "source": [
    "print(name)"
   ]
  },
  {
   "cell_type": "markdown",
   "id": "f6b2ce6c",
   "metadata": {},
   "source": [
    "######  lower()"
   ]
  },
  {
   "cell_type": "code",
   "execution_count": 22,
   "id": "d85a2672",
   "metadata": {},
   "outputs": [
    {
     "name": "stdout",
     "output_type": "stream",
     "text": [
      "peter. is a good boy\n"
     ]
    }
   ],
   "source": [
    "print(name.lower())"
   ]
  },
  {
   "cell_type": "markdown",
   "id": "4b6b668f",
   "metadata": {},
   "source": [
    "## Strip()"
   ]
  },
  {
   "cell_type": "markdown",
   "id": "54844872",
   "metadata": {},
   "source": [
    "this method is used to trim the string means it removes whitespaces before and after the string"
   ]
  },
  {
   "cell_type": "code",
   "execution_count": 28,
   "id": "01c78d0b",
   "metadata": {},
   "outputs": [
    {
     "name": "stdout",
     "output_type": "stream",
     "text": [
      "    Harry Gibbson    \n",
      "word count: 21\n"
     ]
    }
   ],
   "source": [
    "name1 =\"    Harry Gibbson    \"\n",
    "print(name)\n",
    "print(\"word count:\", len(name))"
   ]
  },
  {
   "cell_type": "code",
   "execution_count": 30,
   "id": "80824597",
   "metadata": {},
   "outputs": [
    {
     "name": "stdout",
     "output_type": "stream",
     "text": [
      "Harry Gibbson\n",
      "count: 13\n"
     ]
    }
   ],
   "source": [
    "name2 =\"    Harry Gibbson    \"\n",
    "print(name.strip())\n",
    "print(\"count:\",len(name.strip()))"
   ]
  },
  {
   "cell_type": "markdown",
   "id": "16d6bbd2",
   "metadata": {},
   "source": [
    "Lstrip() and Rstrip()\n"
   ]
  },
  {
   "cell_type": "code",
   "execution_count": 38,
   "id": "0062d461",
   "metadata": {},
   "outputs": [
    {
     "name": "stdout",
     "output_type": "stream",
     "text": [
      "Peter Griffin    \n",
      "17\n"
     ]
    }
   ],
   "source": [
    "name1 =\"    Peter Griffin    \"\n",
    "name1=name1.lstrip()\n",
    "print(name1)\n",
    "print(len(name1))"
   ]
  },
  {
   "cell_type": "markdown",
   "id": "9bae40f1",
   "metadata": {},
   "source": [
    "#####  Split()"
   ]
  },
  {
   "cell_type": "markdown",
   "id": "78cbfa4b",
   "metadata": {},
   "source": [
    "string.split(separator, maxsplit)\n",
    "this function converts the string into list of substring based on delimiter specifed"
   ]
  },
  {
   "cell_type": "code",
   "execution_count": 39,
   "id": "0a8f9352",
   "metadata": {},
   "outputs": [
    {
     "name": "stdout",
     "output_type": "stream",
     "text": [
      "['India', 'is', 'the', 'greatest', 'country', 'in', 'the', 'world']\n"
     ]
    }
   ],
   "source": [
    "sentence = \"India is the greatest country in the world\"\n",
    "print(sentence.split())"
   ]
  },
  {
   "cell_type": "code",
   "execution_count": 40,
   "id": "2fc7e973",
   "metadata": {},
   "outputs": [
    {
     "name": "stdout",
     "output_type": "stream",
     "text": [
      "['26', '01', '1996']\n"
     ]
    }
   ],
   "source": [
    "date = \"26-01-1996\"\n",
    "date= date.split(\"-\")\n",
    "print(date)"
   ]
  },
  {
   "cell_type": "code",
   "execution_count": 46,
   "id": "fd1565d6",
   "metadata": {},
   "outputs": [
    {
     "name": "stdout",
     "output_type": "stream",
     "text": [
      "['Hello', 'this is new york']\n"
     ]
    }
   ],
   "source": [
    "msg= \"Hello,this is new york\"\n",
    "print(msg.split(\",\"))"
   ]
  },
  {
   "cell_type": "code",
   "execution_count": null,
   "id": "8583ae50",
   "metadata": {},
   "outputs": [],
   "source": []
  },
  {
   "cell_type": "code",
   "execution_count": null,
   "id": "bd991213",
   "metadata": {},
   "outputs": [],
   "source": []
  },
  {
   "cell_type": "code",
   "execution_count": null,
   "id": "3a47c76b",
   "metadata": {},
   "outputs": [],
   "source": []
  },
  {
   "cell_type": "code",
   "execution_count": null,
   "id": "b533bc18",
   "metadata": {},
   "outputs": [],
   "source": []
  }
 ],
 "metadata": {
  "kernelspec": {
   "display_name": "Python 3 (ipykernel)",
   "language": "python",
   "name": "python3"
  },
  "language_info": {
   "codemirror_mode": {
    "name": "ipython",
    "version": 3
   },
   "file_extension": ".py",
   "mimetype": "text/x-python",
   "name": "python",
   "nbconvert_exporter": "python",
   "pygments_lexer": "ipython3",
   "version": "3.11.2"
  }
 },
 "nbformat": 4,
 "nbformat_minor": 5
}
